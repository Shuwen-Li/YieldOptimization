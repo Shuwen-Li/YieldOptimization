{
 "cells": [
  {
   "cell_type": "markdown",
   "metadata": {},
   "source": [
    "# Load Dependencies"
   ]
  },
  {
   "cell_type": "code",
   "execution_count": 1,
   "metadata": {
    "ExecuteTime": {
     "end_time": "2023-12-22T12:03:09.755276Z",
     "start_time": "2023-12-22T12:03:08.833090Z"
    }
   },
   "outputs": [],
   "source": [
    "import glob\n",
    "from script.utils import *"
   ]
  },
  {
   "cell_type": "markdown",
   "metadata": {},
   "source": [
    "# Load Data"
   ]
  },
  {
   "cell_type": "code",
   "execution_count": 2,
   "metadata": {
    "ExecuteTime": {
     "end_time": "2023-12-22T12:03:10.517082Z",
     "start_time": "2023-12-22T12:03:10.505016Z"
    }
   },
   "outputs": [],
   "source": [
    "data_dir = './Data/data_cc/'\n",
    "rundata_dir = './Data/rundata_cc/'\n",
    "df=pd.read_csv(data_dir+\"experiment_index.csv\")\n",
    "ele_smi=df['Electrophile_SMILES'].tolist()\n",
    "nuc_smi=df['Nucleophile_SMILES'].tolist()\n",
    "lig_smi=df['Ligand_SMILES'].tolist()\n",
    "base_smi=df['Base_SMILES'].tolist()\n",
    "sol_smi=df['Solvent_SMILES'].tolist()"
   ]
  },
  {
   "cell_type": "code",
   "execution_count": 3,
   "metadata": {
    "ExecuteTime": {
     "end_time": "2023-12-22T12:03:11.145990Z",
     "start_time": "2023-12-22T12:03:11.138189Z"
    }
   },
   "outputs": [
    {
     "name": "stdout",
     "output_type": "stream",
     "text": [
      "The size of chemical space is: 3696\n"
     ]
    }
   ],
   "source": [
    "target = 'yield'\n",
    "defined_chemical_space = {'Electrophile_SMILES':list(set(ele_smi)), \n",
    "                          'Nucleophile_SMILES':list(set(nuc_smi)), \n",
    "                          'Ligand_SMILES':list(set(lig_smi)),\n",
    "                          'Base_SMILES':list(set(base_smi)), \n",
    "                          'Solvent_SMILES':list(set(sol_smi))\n",
    "                          }\n",
    "domain = get_domain(defined_chemical_space)\n",
    "print('The size of chemical space is: %d'%len(domain))"
   ]
  },
  {
   "cell_type": "markdown",
   "metadata": {},
   "source": [
    "# Generate Descriptor"
   ]
  },
  {
   "cell_type": "code",
   "execution_count": 10,
   "metadata": {
    "ExecuteTime": {
     "end_time": "2023-12-22T13:02:07.668183Z",
     "start_time": "2023-12-22T13:02:06.941467Z"
    }
   },
   "outputs": [],
   "source": [
    "desc_map={}\n",
    "for i in glob.glob(data_dir+'*.csv'):\n",
    "    if i.split('/')[-1].split('.')[0].split('_')[-1]=='dft':    \n",
    "        tem_data=np.array(pd.read_csv(i))\n",
    "        for j in range(len(tem_data)):\n",
    "            desc_map[tem_data[j][0]]=tem_data[j][1:]\n",
    "tem_data=np.array(pd.read_csv('./Data/data_cc/ligand-conformers_dft.csv'))\n",
    "for i in range(len(tem_data)):\n",
    "    desc_map[tem_data[i][0]]=tem_data[i][1:]\n",
    "desc_domain = getdescdomain(domain,desc_map,defined_chemical_space)"
   ]
  },
  {
   "cell_type": "markdown",
   "metadata": {},
   "source": [
    "# Reaction Optimization"
   ]
  },
  {
   "cell_type": "code",
   "execution_count": 6,
   "metadata": {
    "ExecuteTime": {
     "end_time": "2023-12-22T12:09:21.437156Z",
     "start_time": "2023-12-22T12:07:39.476347Z"
    },
    "scrolled": true
   },
   "outputs": [
    {
     "name": "stdout",
     "output_type": "stream",
     "text": [
      "0\n",
      "1\n",
      "2\n",
      "3\n",
      "4\n",
      "5\n",
      "6\n",
      "7\n",
      "8\n",
      "9\n",
      "10\n",
      "11\n",
      "12\n",
      "13\n",
      "14\n",
      "15\n",
      "16\n",
      "17\n",
      "18\n",
      "19\n",
      "20\n",
      "21\n",
      "22\n",
      "23\n",
      "24\n",
      "25\n",
      "26\n",
      "27\n",
      "28\n",
      "29\n",
      "30\n",
      "31\n",
      "32\n",
      "33\n",
      "34\n",
      "35\n",
      "36\n",
      "37\n",
      "38\n",
      "39\n",
      "40\n",
      "41\n",
      "42\n",
      "43\n",
      "44\n",
      "45\n",
      "46\n",
      "47\n",
      "48\n",
      "49\n"
     ]
    }
   ],
   "source": [
    "tem_batch_size=5\n",
    "ten_cc1=3\n",
    "ten_cc2=2\n",
    "ten_cc3=1\n",
    "tem_cc1num=100\n",
    "tem_cc2num=50\n",
    "tem_cc2num=5\n",
    "model='rf'\n",
    "all_recorded_max = []\n",
    "all_recorded_over_eighty = []\n",
    "all_recorded_over_ninty = []\n",
    "results_all_cycle=[]\n",
    "for cycle in range(50):\n",
    "    print(cycle)\n",
    "    recorded_max = []\n",
    "    recorded_over_eighty = []\n",
    "    recorded_over_ninty = []\n",
    "    np.random.seed(None)\n",
    "    result = pd.DataFrame.from_dict({tmp_key:[] for tmp_key in list(defined_chemical_space.keys()) + [target]})\n",
    "    init_react = random_recom(tem_batch_size,domain,desc_domain,'./Data/rundata_cc/recommend/init.csv',random_state=None)\n",
    "    init_target = exe_exp_3(init_react,result_pth=data_dir+'experiment_index.csv')\n",
    "    with warnings.catch_warnings():\n",
    "        warnings.simplefilter(\"ignore\")\n",
    "        init_react[target] = init_target\n",
    "    init_react.to_csv(rundata_dir+'result_ourwork/result.csv')\n",
    "    result = add_result(result,rundata_dir+'result_ourwork/result.csv')\n",
    "    max_target = result[target].max()\n",
    "    over_eighty = np.where(result[target].to_numpy()>80)[0].shape[0]/len(result)\n",
    "    over_ninty = np.where(result[target].to_numpy()>90)[0].shape[0]/len(result)\n",
    "    recorded_max.append(max_target)\n",
    "    recorded_over_eighty.append(over_eighty)\n",
    "    recorded_over_ninty.append(over_ninty)\n",
    "\n",
    "    #print('Initial, target maximum value: %.4f, rate of target over 0.8: %.4f, rate of target over 0.9: %.4f'%(max_target,over_eighty,over_ninty))\n",
    "    train_x,train_y = result2xy(desc_domain,result=result)\n",
    "    tpk = Top_k(train_x,train_y,n_jobs=8,model=model)\n",
    "    domain_sampled = tpk.recommend(domain,desc_domain,result,batch_size=tem_batch_size,target = 'yield')\n",
    "    stage=1\n",
    "    all_stage=[1]\n",
    "\n",
    "    for try_idx in range(1,10):\n",
    "        domain_sampled.to_csv(rundata_dir+'recommend_topk/cycle_%d.csv'%try_idx)\n",
    "        new_target = exe_exp_3(domain_sampled,result_pth=data_dir+'experiment_index.csv')\n",
    "        new_result = deepcopy(domain_sampled)\n",
    "        new_result[target] = new_target\n",
    "        new_result.to_csv(rundata_dir+'result_ourwork/cycle_%d.csv'%try_idx)\n",
    "        result = add_result(result,rundata_dir+'result_ourwork/cycle_%d.csv'%try_idx)\n",
    "        max_target = result[target].max()\n",
    "        over_eighty = np.where(result[target].to_numpy()>80)[0].shape[0]/len(result)\n",
    "        over_ninty = np.where(result[target].to_numpy()>90)[0].shape[0]/len(result)\n",
    "        recorded_max.append(max_target)\n",
    "        recorded_over_eighty.append(over_eighty)\n",
    "        recorded_over_ninty.append(over_ninty)\n",
    "        #print('Round %d, Cycle %d, target maximum value: %.4f, rate of target over 0.8: %.4f, rate of target over 0.9: %.4f'%(cycle,try_idx,max_target,over_eighty,over_ninty))\n",
    "        train_x,train_y = result2xy(desc_domain,result=result)\n",
    "        tpk = Top_k_add_or_total(train_x,train_y,n_jobs=8,model=model)\n",
    "        domain_sampled,stage = tpk.recommend(domain,desc_domain,result,batch_size=tem_batch_size,\\\n",
    "                stage=stage,cc1=ten_cc1,cc2=ten_cc2,cc1_num=tem_cc1num,cc2_num=tem_cc2num,target = 'yield')\n",
    "        all_stage.append(stage)\n",
    "        stage=max(all_stage)\n",
    "    results_all_cycle.append(result[target].tolist()[:50])\n",
    "    all_recorded_max.append(recorded_max)\n",
    "    all_recorded_over_eighty.append(recorded_over_eighty)\n",
    "    all_recorded_over_ninty.append(recorded_over_ninty)\n",
    "    np.save(rundata_dir+'datacctotal_ourwork_dft.npy',results_all_cycle)"
   ]
  },
  {
   "cell_type": "markdown",
   "metadata": {},
   "source": [
    "# Results"
   ]
  },
  {
   "cell_type": "code",
   "execution_count": 7,
   "metadata": {
    "ExecuteTime": {
     "end_time": "2023-12-22T12:21:31.917566Z",
     "start_time": "2023-12-22T12:21:31.788620Z"
    }
   },
   "outputs": [
    {
     "data": {
      "image/png": "[encoded data removed]",
      "text/plain": [
       "<Figure size 400x400 with 1 Axes>"
      ]
     },
     "metadata": {},
     "output_type": "display_data"
    }
   ],
   "source": [
    "plt.figure(figsize=(4,4))\n",
    "results_all_cycle=np.load(rundata_dir+'ourwork_results_totalcn_batch_%d_cc_%d_cc_%d_cc1num_%d_cc2num_%d_%s.npy'%\\\n",
    "                                                (tem_batch_size,ten_cc1,ten_cc2,tem_cc1num,tem_cc2num,model),allow_pickle=True)\n",
    "all_max100,_,_,_,_=get_all_max100(results_all_cycle)\n",
    "recorded_max_mean1=plot_figure(all_max100,c1='lightblue',c2='blue',title='')"
   ]
  }
 ],
 "metadata": {
  "kernelspec": {
   "display_name": "Python 3",
   "language": "python",
   "name": "python3"
  },
  "language_info": {
   "codemirror_mode": {
    "name": "ipython",
    "version": 3
   },
   "file_extension": ".py",
   "mimetype": "text/x-python",
   "name": "python",
   "nbconvert_exporter": "python",
   "pygments_lexer": "ipython3",
   "version": "3.8.12"
  },
  "toc": {
   "base_numbering": 1,
   "nav_menu": {},
   "number_sections": true,
   "sideBar": true,
   "skip_h1_title": false,
   "title_cell": "Table of Contents",
   "title_sidebar": "Contents",
   "toc_cell": false,
   "toc_position": {
    "height": "calc(100% - 180px)",
    "left": "10px",
    "top": "150px",
    "width": "176.25px"
   },
   "toc_section_display": true,
   "toc_window_display": true
  },
  "varInspector": {
   "cols": {
    "lenName": 16,
    "lenType": 16,
    "lenVar": 40
   },
   "kernels_config": {
    "python": {
     "delete_cmd_postfix": "",
     "delete_cmd_prefix": "del ",
     "library": "var_list.py",
     "varRefreshCmd": "print(var_dic_list())"
    },
    "r": {
     "delete_cmd_postfix": ") ",
     "delete_cmd_prefix": "rm(",
     "library": "var_list.r",
     "varRefreshCmd": "cat(var_dic_list()) "
    }
   },
   "types_to_exclude": [
    "module",
    "function",
    "builtin_function_or_method",
    "instance",
    "_Feature"
   ],
   "window_display": false
  }
 },
 "nbformat": 4,
 "nbformat_minor": 4
}
