{
 "cells": [
  {
   "cell_type": "markdown",
   "id": "8a5ebf4f",
   "metadata": {},
   "source": [
    "# Start"
   ]
  },
  {
   "cell_type": "code",
   "execution_count": 1,
   "id": "0bcd6c26",
   "metadata": {
    "ExecuteTime": {
     "end_time": "2023-12-14T02:43:49.155648Z",
     "start_time": "2023-12-14T02:43:48.331291Z"
    }
   },
   "outputs": [],
   "source": [
    "import pandas as pd \n",
    "import numpy as np\n",
    "import csv\n",
    "import sys \n",
    "from os import sep\n",
    "from script.utils import format_output,f_des_std,get_sorted_pre_yield_ep"
   ]
  },
  {
   "cell_type": "markdown",
   "id": "762bfd4f",
   "metadata": {},
   "source": [
    "# Load Data"
   ]
  },
  {
   "cell_type": "code",
   "execution_count": 2,
   "id": "5fcaa905",
   "metadata": {
    "ExecuteTime": {
     "end_time": "2023-12-14T02:43:49.724087Z",
     "start_time": "2023-12-14T02:43:49.716607Z"
    }
   },
   "outputs": [],
   "source": [
    "df=pd.read_csv('./dataset/all_input_data.csv') \n",
    "em = df['Anode/Cathode'].to_list()\n",
    "sol = df['Solvent'].to_list()\n",
    "ele = df['Electrolyte'].to_list()\n",
    "cp = df['Current/Potential'].to_list()\n",
    "labels = np.array(df['Yield (%)'].to_list())\n",
    "labels_std = np.array(labels)/100\n",
    "\n",
    "em_set = list(set(em))\n",
    "sol_set = list(set(sol))\n",
    "ele_set = list(set(ele))\n",
    "cp_set = list(set(cp))"
   ]
  },
  {
   "cell_type": "markdown",
   "id": "467842f3",
   "metadata": {},
   "source": [
    "# Generate descriptors"
   ]
  },
  {
   "cell_type": "code",
   "execution_count": 3,
   "id": "67579bfb",
   "metadata": {
    "ExecuteTime": {
     "end_time": "2023-12-14T02:43:50.815419Z",
     "start_time": "2023-12-14T02:43:50.722998Z"
    },
    "scrolled": true
   },
   "outputs": [],
   "source": [
    "#electrolyte\n",
    "ele_df = np.array(pd.read_excel('descriptor/descriptors of electrolytes.xlsx'))\n",
    "\n",
    "ele_name_des={}\n",
    "for i in ele_df:\n",
    "    ele_name_des[i[0]]=i[1:]\n",
    "\n",
    "#solvents\n",
    "sol_df = np.array(pd.read_excel('descriptor/descriptors of solvents.xlsx'))\n",
    "sol_name_des={}\n",
    "for i in sol_df:\n",
    "    sol_name_des[i[0]]=i[1:]\n",
    "\n",
    "#em\n",
    "em_df = np.array(pd.read_excel('descriptor/descriptors of electrodes.xlsx'))\n",
    "em_name_des={}\n",
    "for i in em_df:\n",
    "    em_name_des[i[0]]=i[1:]\n",
    "\n",
    "#cp\n",
    "cp2onehot = {'0.3 mA':[1,0,0,0,0,0],'0.6 mA':[0,1,0,0,0,0],\n",
    "             '0.9 mA':[0,0,1,0,0,0],'1.2 mA':[0,0,0,1,0,0],\n",
    "             '1.0 V':[0,0,0,0,1,0],'1.5 V':[0,0,0,0,0,1]}"
   ]
  },
  {
   "cell_type": "code",
   "execution_count": 4,
   "id": "ac032394",
   "metadata": {
    "ExecuteTime": {
     "end_time": "2023-12-14T02:43:52.018698Z",
     "start_time": "2023-12-14T02:43:51.935244Z"
    }
   },
   "outputs": [
    {
     "data": {
      "text/plain": [
       "(22608, 4)"
      ]
     },
     "execution_count": 4,
     "metadata": {},
     "output_type": "execute_result"
    }
   ],
   "source": [
    "em_ep_list = ['Pt/Glassy carbon', 'Pt/RVC', 'Pt/Ni foam', 'Fe/Glassy carbon',\n",
    "'Fe/RVC', 'Fe/Ni foam', 'GF/Glassy carbon', 'GF/RVC', 'GF/Ni foam',\n",
    "'BDD/Glassy carbon', 'BDD/RVC', 'BDD/Ni foam', 'Glassy carbon/Pt',\n",
    "'Glassy carbon/Fe', 'Glassy carbon/GF', 'Glassy carbon/BDD',\n",
    "'Glassy carbon/Glassy carbon', 'Glassy carbon/RVC',\n",
    "'Glassy carbon/Ni foam', 'RVC/Pt', 'RVC/Fe', 'RVC/GF', 'RVC/BDD',\n",
    "'RVC/Glassy carbon', 'RVC/RVC', 'RVC/Ni foam', 'Ni foam/Pt',\n",
    "'Ni foam/Fe', 'Ni foam/GF', 'Ni foam/BDD', 'Ni foam/Glassy carbon',\n",
    "'Ni foam/RVC', 'Ni foam/Ni foam']\n",
    "sol_ep_list = ['HFIP: AcOH(1: 1)', 'HFIP: TFE(1: 1)', 'HFIP: EtOH(1: 1)', 'HFIP: MeCN(1: 1)','HFIP']\n",
    "ele_ep=['NaO2CAd','nBu4NOAc', 'nBu4NPF6', 'LiClO4', 'K3PO4', 'LiOAc', 'NaOAc', 'KOAc', 'NaOPiv']\n",
    "sol_ep=[ 'AcOH: TFE(1: 1)','HFIP: AcOH(1: 1)', 'HFIP: TFE(1: 1)', 'HFIP: EtOH(1: 1)', 'HFIP: MeCN(1: 1)',\n",
    "         'AcOH: EtOH(1: 1)', 'AcOH: MeCN(1: 1)', 'TFE: EtOH(1: 1)', 'TFE: MeCN(1: 1)', \n",
    "         'EtOH: MeCN(1: 1)', 'AcOH', 'TFE', 'EtOH', 'MeCN', 'HFIP']\n",
    "em_ep=['GF/Pt', 'Fe/Fe', 'Fe/GF', 'Fe/Pt','Fe/RVC', 'Fe/Ni foam', \n",
    "       'GF/BDD', 'GF/Fe', 'GF/GF', 'Pt/BDD',\n",
    "       'BDD/BDD', 'BDD/Fe', 'BDD/GF', 'BDD/Pt', 'Fe/BDD', 'Pt/Fe', 'Pt/GF', 'Pt/Pt', \n",
    "       'Pt/Glassy carbon', 'Pt/RVC', 'Pt/Ni foam', 'Fe/Glassy carbon',  'GF/Glassy carbon', 'GF/RVC', 'GF/Ni foam', 'BDD/Glassy carbon',\n",
    "       'BDD/RVC', 'BDD/Ni foam', 'Glassy carbon/Pt', 'Glassy carbon/Fe', 'Glassy carbon/GF', \n",
    "       'Glassy carbon/BDD', 'Glassy carbon/Glassy carbon', \n",
    "       'Glassy carbon/RVC', 'Glassy carbon/Ni foam', \n",
    "       'RVC/Pt', 'RVC/Fe', 'RVC/GF', 'RVC/BDD', 'RVC/Glassy carbon', 'RVC/RVC', 'RVC/Ni foam', 'Ni foam/Pt', 'Ni foam/Fe', \n",
    "       'Ni foam/GF', 'Ni foam/BDD', 'Ni foam/Glassy carbon', 'Ni foam/RVC', 'Ni foam/Ni foam']\n",
    "cp_ep=cp2onehot.keys()\n",
    "ep_space=[]\n",
    "for j in sol_ep:\n",
    "    for i in ele_ep:\n",
    "        for k in em_ep:\n",
    "            for m in cp_ep:\n",
    "                if k in em_ep_list or j in sol_ep_list: \n",
    "                    if i!='NaOPiv' and j !=\"AcOH\" and j !=\"TFE\"  and j!=\"AcOH: TFE(1: 1)\" and k!='GF/Pt':\n",
    "                        ep_space.append([i,j,k,m])\n",
    "ep_space=np.array(ep_space)\n",
    "ep_space.shape"
   ]
  },
  {
   "cell_type": "code",
   "execution_count": 5,
   "id": "6649ef55",
   "metadata": {
    "ExecuteTime": {
     "end_time": "2023-12-14T02:43:53.094007Z",
     "start_time": "2023-12-14T02:43:53.024325Z"
    }
   },
   "outputs": [],
   "source": [
    "ele_des = np.array([ele_name_des[i] for i in ele+list(ep_space[:,0])],dtype='float64')\n",
    "sol_des = np.array([sol_name_des[i] for i in sol+list(ep_space[:,1])],dtype='float64')\n",
    "em_des = np.array([em_name_des[i] for i in em+list(ep_space[:,2])],dtype='float64')\n",
    "cp_des = np.array([cp2onehot[i] for i in cp+list(ep_space[:,3])]).reshape(-1,6)\n",
    "des = np.concatenate((ele_des,sol_des,em_des,cp_des),axis=1)\n",
    "des_std = f_des_std(des)"
   ]
  },
  {
   "cell_type": "markdown",
   "id": "13920d6a",
   "metadata": {},
   "source": [
    "# Prediction"
   ]
  },
  {
   "cell_type": "code",
   "execution_count": 6,
   "id": "60be94b7",
   "metadata": {
    "ExecuteTime": {
     "end_time": "2023-12-14T02:44:10.228740Z",
     "start_time": "2023-12-14T02:44:10.133018Z"
    }
   },
   "outputs": [
    {
     "data": {
      "text/html": [
       "<div>\n",
       "<style scoped>\n",
       "    .dataframe tbody tr th:only-of-type {\n",
       "        vertical-align: middle;\n",
       "    }\n",
       "\n",
       "    .dataframe tbody tr th {\n",
       "        vertical-align: top;\n",
       "    }\n",
       "\n",
       "    .dataframe thead th {\n",
       "        text-align: right;\n",
       "    }\n",
       "</style>\n",
       "<table border=\"1\" class=\"dataframe\">\n",
       "  <thead>\n",
       "    <tr style=\"text-align: right;\">\n",
       "      <th></th>\n",
       "      <th>rank</th>\n",
       "      <th>Anode/Cathode</th>\n",
       "      <th>Solvent</th>\n",
       "      <th>Electrolyte</th>\n",
       "      <th>Current/Potential</th>\n",
       "    </tr>\n",
       "  </thead>\n",
       "  <tbody>\n",
       "    <tr>\n",
       "      <th>0</th>\n",
       "      <td>1</td>\n",
       "      <td>NaO2CAd</td>\n",
       "      <td>HFIP: AcOH(1: 1)</td>\n",
       "      <td>Fe/Fe</td>\n",
       "      <td>0.3 mA</td>\n",
       "    </tr>\n",
       "    <tr>\n",
       "      <th>1</th>\n",
       "      <td>2</td>\n",
       "      <td>NaO2CAd</td>\n",
       "      <td>HFIP: AcOH(1: 1)</td>\n",
       "      <td>GF/Fe</td>\n",
       "      <td>0.3 mA</td>\n",
       "    </tr>\n",
       "    <tr>\n",
       "      <th>2</th>\n",
       "      <td>3</td>\n",
       "      <td>NaO2CAd</td>\n",
       "      <td>HFIP: AcOH(1: 1)</td>\n",
       "      <td>BDD/Fe</td>\n",
       "      <td>0.3 mA</td>\n",
       "    </tr>\n",
       "    <tr>\n",
       "      <th>3</th>\n",
       "      <td>4</td>\n",
       "      <td>NaO2CAd</td>\n",
       "      <td>HFIP: AcOH(1: 1)</td>\n",
       "      <td>Pt/Fe</td>\n",
       "      <td>0.3 mA</td>\n",
       "    </tr>\n",
       "  </tbody>\n",
       "</table>\n",
       "</div>"
      ],
      "text/plain": [
       "  rank Anode/Cathode           Solvent Electrolyte Current/Potential\n",
       "0    1       NaO2CAd  HFIP: AcOH(1: 1)       Fe/Fe            0.3 mA\n",
       "1    2       NaO2CAd  HFIP: AcOH(1: 1)       GF/Fe            0.3 mA\n",
       "2    3       NaO2CAd  HFIP: AcOH(1: 1)      BDD/Fe            0.3 mA\n",
       "3    4       NaO2CAd  HFIP: AcOH(1: 1)       Pt/Fe            0.3 mA"
      ]
     },
     "execution_count": 6,
     "metadata": {},
     "output_type": "execute_result"
    }
   ],
   "source": [
    "best_model_name='SVR'\n",
    "input_index=list(range(len(labels_std)))\n",
    "sorted_pre_yield,_ = get_sorted_pre_yield_ep(ep_space=ep_space,model_name=best_model_name,\n",
    "input_index=input_index,des_std=des_std,labels_std=labels_std,\n",
    "selected_feature=[ 12,28,5,0,32,1,35,2,31,3,4,30])   \n",
    "format_output(sorted_pre_yield[:4])"
   ]
  }
 ],
 "metadata": {
  "kernelspec": {
   "display_name": "Python 3",
   "language": "python",
   "name": "python3"
  },
  "language_info": {
   "codemirror_mode": {
    "name": "ipython",
    "version": 3
   },
   "file_extension": ".py",
   "mimetype": "text/x-python",
   "name": "python",
   "nbconvert_exporter": "python",
   "pygments_lexer": "ipython3",
   "version": "3.8.12"
  },
  "toc": {
   "base_numbering": 1,
   "nav_menu": {},
   "number_sections": true,
   "sideBar": true,
   "skip_h1_title": false,
   "title_cell": "Table of Contents",
   "title_sidebar": "Contents",
   "toc_cell": false,
   "toc_position": {
    "height": "calc(100% - 180px)",
    "left": "10px",
    "top": "150px",
    "width": "165px"
   },
   "toc_section_display": true,
   "toc_window_display": true
  },
  "varInspector": {
   "cols": {
    "lenName": 16,
    "lenType": 16,
    "lenVar": 40
   },
   "kernels_config": {
    "python": {
     "delete_cmd_postfix": "",
     "delete_cmd_prefix": "del ",
     "library": "var_list.py",
     "varRefreshCmd": "print(var_dic_list())"
    },
    "r": {
     "delete_cmd_postfix": ") ",
     "delete_cmd_prefix": "rm(",
     "library": "var_list.r",
     "varRefreshCmd": "cat(var_dic_list()) "
    }
   },
   "types_to_exclude": [
    "module",
    "function",
    "builtin_function_or_method",
    "instance",
    "_Feature"
   ],
   "window_display": false
  }
 },
 "nbformat": 4,
 "nbformat_minor": 5
}
