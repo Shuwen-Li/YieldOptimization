{
 "cells": [
  {
   "cell_type": "markdown",
   "id": "dcb182ab",
   "metadata": {},
   "source": [
    "# Load Dependencies"
   ]
  },
  {
   "cell_type": "code",
   "execution_count": 1,
   "id": "24dcb6c5",
   "metadata": {
    "ExecuteTime": {
     "end_time": "2024-03-08T11:20:36.976389Z",
     "start_time": "2024-03-08T11:20:36.147930Z"
    }
   },
   "outputs": [],
   "source": [
    "import pandas as pd \n",
    "import numpy as np\n",
    "from script.load_dataset import input_dataset,chemical_space\n",
    "from script.load_descriptors import get_descriptors\n",
    "from script.select_feature import feature_selection\n",
    "from script.predict_yield import get_sorted_pre_yield\n",
    "from script.ort_select import get_orthogonal_selection\n",
    "from script.select_model import get_best_model_and_param\n",
    "from script.utils import format_output,get_results"
   ]
  },
  {
   "cell_type": "markdown",
   "id": "02ff5d27",
   "metadata": {},
   "source": [
    "# Load Dataset"
   ]
  },
  {
   "cell_type": "code",
   "execution_count": 3,
   "id": "8990314c",
   "metadata": {
    "ExecuteTime": {
     "end_time": "2023-11-05T04:42:48.218517Z",
     "start_time": "2023-11-05T04:42:48.193603Z"
    }
   },
   "outputs": [
    {
     "data": {
      "text/html": [
       "<div>\n",
       "<style scoped>\n",
       "    .dataframe tbody tr th:only-of-type {\n",
       "        vertical-align: middle;\n",
       "    }\n",
       "\n",
       "    .dataframe tbody tr th {\n",
       "        vertical-align: top;\n",
       "    }\n",
       "\n",
       "    .dataframe thead th {\n",
       "        text-align: right;\n",
       "    }\n",
       "</style>\n",
       "<table border=\"1\" class=\"dataframe\">\n",
       "  <thead>\n",
       "    <tr style=\"text-align: right;\">\n",
       "      <th></th>\n",
       "      <th>Entry</th>\n",
       "      <th>Anode/Cathode</th>\n",
       "      <th>Solvent</th>\n",
       "      <th>Electrolyte</th>\n",
       "      <th>Current/Potential</th>\n",
       "      <th>Yield (%)</th>\n",
       "    </tr>\n",
       "  </thead>\n",
       "  <tbody>\n",
       "    <tr>\n",
       "      <th>0</th>\n",
       "      <td>1</td>\n",
       "      <td>Pt/Pt</td>\n",
       "      <td>AcOH</td>\n",
       "      <td>K3PO4</td>\n",
       "      <td>0.3 mA</td>\n",
       "      <td>17</td>\n",
       "    </tr>\n",
       "    <tr>\n",
       "      <th>1</th>\n",
       "      <td>2</td>\n",
       "      <td>GF/Pt</td>\n",
       "      <td>AcOH: TFE(1: 1)</td>\n",
       "      <td>nBu4NOAc</td>\n",
       "      <td>0.3 mA</td>\n",
       "      <td>0</td>\n",
       "    </tr>\n",
       "    <tr>\n",
       "      <th>2</th>\n",
       "      <td>3</td>\n",
       "      <td>BDD/Pt</td>\n",
       "      <td>AcOH: TFE(1: 1)</td>\n",
       "      <td>LiClO4</td>\n",
       "      <td>0.9 mA</td>\n",
       "      <td>13</td>\n",
       "    </tr>\n",
       "    <tr>\n",
       "      <th>3</th>\n",
       "      <td>4</td>\n",
       "      <td>Fe/Pt</td>\n",
       "      <td>AcOH: MeCN(1: 1)</td>\n",
       "      <td>LiOAc</td>\n",
       "      <td>1.2 mA</td>\n",
       "      <td>0</td>\n",
       "    </tr>\n",
       "    <tr>\n",
       "      <th>4</th>\n",
       "      <td>5</td>\n",
       "      <td>Pt/GF</td>\n",
       "      <td>TFE</td>\n",
       "      <td>NaO2CAd</td>\n",
       "      <td>1.0 V</td>\n",
       "      <td>0</td>\n",
       "    </tr>\n",
       "    <tr>\n",
       "      <th>5</th>\n",
       "      <td>6</td>\n",
       "      <td>GF/GF</td>\n",
       "      <td>TFE: EtOH(1: 1)</td>\n",
       "      <td>NaOAc</td>\n",
       "      <td>1.5 V</td>\n",
       "      <td>0</td>\n",
       "    </tr>\n",
       "    <tr>\n",
       "      <th>6</th>\n",
       "      <td>7</td>\n",
       "      <td>BDD/GF</td>\n",
       "      <td>TFE: MeCN(1: 1)</td>\n",
       "      <td>NaOPiv</td>\n",
       "      <td>0.3 mA</td>\n",
       "      <td>3</td>\n",
       "    </tr>\n",
       "    <tr>\n",
       "      <th>7</th>\n",
       "      <td>8</td>\n",
       "      <td>Fe/GF</td>\n",
       "      <td>EtOH</td>\n",
       "      <td>nBu4NOAc</td>\n",
       "      <td>0.6 mA</td>\n",
       "      <td>0</td>\n",
       "    </tr>\n",
       "    <tr>\n",
       "      <th>8</th>\n",
       "      <td>9</td>\n",
       "      <td>Pt/BDD</td>\n",
       "      <td>EtOH: MeCN(1: 1)</td>\n",
       "      <td>nBu4NPF6</td>\n",
       "      <td>0.9 mA</td>\n",
       "      <td>0</td>\n",
       "    </tr>\n",
       "    <tr>\n",
       "      <th>9</th>\n",
       "      <td>10</td>\n",
       "      <td>GF/BDD</td>\n",
       "      <td>MeCN</td>\n",
       "      <td>K3PO4</td>\n",
       "      <td>1.2 mA</td>\n",
       "      <td>0</td>\n",
       "    </tr>\n",
       "    <tr>\n",
       "      <th>10</th>\n",
       "      <td>11</td>\n",
       "      <td>BDD/BDD</td>\n",
       "      <td>AcOH</td>\n",
       "      <td>KOAc</td>\n",
       "      <td>1.0 V</td>\n",
       "      <td>5</td>\n",
       "    </tr>\n",
       "    <tr>\n",
       "      <th>11</th>\n",
       "      <td>12</td>\n",
       "      <td>Fe/BDD</td>\n",
       "      <td>AcOH: TFE(1: 1)</td>\n",
       "      <td>LiClO4</td>\n",
       "      <td>1.5 V</td>\n",
       "      <td>3</td>\n",
       "    </tr>\n",
       "    <tr>\n",
       "      <th>12</th>\n",
       "      <td>13</td>\n",
       "      <td>Pt/Fe</td>\n",
       "      <td>AcOH: EtOH(1: 1)</td>\n",
       "      <td>LiOAc</td>\n",
       "      <td>0.3 mA</td>\n",
       "      <td>3</td>\n",
       "    </tr>\n",
       "    <tr>\n",
       "      <th>13</th>\n",
       "      <td>14</td>\n",
       "      <td>GF/Fe</td>\n",
       "      <td>AcOH: MeCN(1: 1)</td>\n",
       "      <td>NaO2CAd</td>\n",
       "      <td>0.6 mA</td>\n",
       "      <td>7</td>\n",
       "    </tr>\n",
       "    <tr>\n",
       "      <th>14</th>\n",
       "      <td>15</td>\n",
       "      <td>BDD/Fe</td>\n",
       "      <td>TFE</td>\n",
       "      <td>NaOAc</td>\n",
       "      <td>0.9 mA</td>\n",
       "      <td>0</td>\n",
       "    </tr>\n",
       "    <tr>\n",
       "      <th>15</th>\n",
       "      <td>16</td>\n",
       "      <td>Fe/Fe</td>\n",
       "      <td>TFE: EtOH(1: 1)</td>\n",
       "      <td>NaOPiv</td>\n",
       "      <td>1.2 mA</td>\n",
       "      <td>0</td>\n",
       "    </tr>\n",
       "  </tbody>\n",
       "</table>\n",
       "</div>"
      ],
      "text/plain": [
       "    Entry Anode/Cathode           Solvent Electrolyte Current/Potential  \\\n",
       "0       1         Pt/Pt              AcOH       K3PO4            0.3 mA   \n",
       "1       2         GF/Pt   AcOH: TFE(1: 1)    nBu4NOAc            0.3 mA   \n",
       "2       3        BDD/Pt   AcOH: TFE(1: 1)      LiClO4            0.9 mA   \n",
       "3       4         Fe/Pt  AcOH: MeCN(1: 1)       LiOAc            1.2 mA   \n",
       "4       5         Pt/GF               TFE     NaO2CAd             1.0 V   \n",
       "5       6         GF/GF   TFE: EtOH(1: 1)       NaOAc             1.5 V   \n",
       "6       7        BDD/GF   TFE: MeCN(1: 1)      NaOPiv            0.3 mA   \n",
       "7       8         Fe/GF              EtOH    nBu4NOAc            0.6 mA   \n",
       "8       9        Pt/BDD  EtOH: MeCN(1: 1)    nBu4NPF6            0.9 mA   \n",
       "9      10        GF/BDD              MeCN       K3PO4            1.2 mA   \n",
       "10     11       BDD/BDD              AcOH        KOAc             1.0 V   \n",
       "11     12        Fe/BDD   AcOH: TFE(1: 1)      LiClO4             1.5 V   \n",
       "12     13         Pt/Fe  AcOH: EtOH(1: 1)       LiOAc            0.3 mA   \n",
       "13     14         GF/Fe  AcOH: MeCN(1: 1)     NaO2CAd            0.6 mA   \n",
       "14     15        BDD/Fe               TFE       NaOAc            0.9 mA   \n",
       "15     16         Fe/Fe   TFE: EtOH(1: 1)      NaOPiv            1.2 mA   \n",
       "\n",
       "    Yield (%)  \n",
       "0          17  \n",
       "1           0  \n",
       "2          13  \n",
       "3           0  \n",
       "4           0  \n",
       "5           0  \n",
       "6           3  \n",
       "7           0  \n",
       "8           0  \n",
       "9           0  \n",
       "10          5  \n",
       "11          3  \n",
       "12          3  \n",
       "13          7  \n",
       "14          0  \n",
       "15          0  "
      ]
     },
     "execution_count": 3,
     "metadata": {},
     "output_type": "execute_result"
    }
   ],
   "source": [
    "n_round = 1\n",
    "Input_dataset = input_dataset(n_round=n_round)\n",
    "yield_std = Input_dataset.yield_std\n",
    "input_data = Input_dataset.input_data\n",
    "input_index = Input_dataset.input_index\n",
    "Input_dataset.input_data_yield"
   ]
  },
  {
   "cell_type": "markdown",
   "id": "944100cd",
   "metadata": {},
   "source": [
    "# Load Descriptor"
   ]
  },
  {
   "cell_type": "code",
   "execution_count": 4,
   "id": "c7e84a73",
   "metadata": {
    "ExecuteTime": {
     "end_time": "2023-11-05T04:42:50.702366Z",
     "start_time": "2023-11-05T04:42:50.577789Z"
    },
    "scrolled": true
   },
   "outputs": [],
   "source": [
    "des_std = get_descriptors()"
   ]
  },
  {
   "cell_type": "markdown",
   "id": "5db3dec7",
   "metadata": {},
   "source": [
    "# Model Selection"
   ]
  },
  {
   "cell_type": "code",
   "execution_count": 5,
   "id": "ae64a56e",
   "metadata": {
    "ExecuteTime": {
     "end_time": "2023-11-05T04:47:48.232529Z",
     "start_time": "2023-11-05T04:42:52.720214Z"
    }
   },
   "outputs": [
    {
     "name": "stdout",
     "output_type": "stream",
     "text": [
      "Model:   BG, Best Socre: -0.0481, Best Param:  {'n_estimators': 10}\n",
      "Model:   DT, Best Socre: -0.0640, Best Param:  {'max_depth': None}\n",
      "Model:   ET, Best Socre: -0.0478, Best Param:  {'max_depth': None, 'n_estimators': 50}\n",
      "Model:   GB, Best Socre: -0.0623, Best Param:  {'max_depth': 3, 'n_estimators': 50}\n",
      "Model:  KNR, Best Socre: -0.0344, Best Param:  {'n_neighbors': 4}\n",
      "Model:  KRR, Best Socre: -0.0523, Best Param:  {'gamma': None}\n",
      "Model: LSVR, Best Socre: -0.0399, Best Param:  {'C': 1, 'epsilon': 0.1}\n",
      "Model:   RF, Best Socre: -0.0488, Best Param:  {'max_depth': None, 'n_estimators': 50}\n",
      "Model: Ridge, Best Socre: -0.0484, Best Param:  {'alpha': 1.5}\n",
      "Model:  SVR, Best Socre: -0.0710, Best Param:  {'gamma': 'scale', 'kernel': 'rbf'}\n",
      "Model:  XGB, Best Socre: -0.0621, Best Param:  {'max_depth': None}\n",
      "Best Model:  KNR, Best Param:  {'n_neighbors': 4}\n"
     ]
    }
   ],
   "source": [
    "best_model_name,best_model_params,best_params=get_best_model_and_param(des_std,yield_std,input_index)# Socre: -MAE"
   ]
  },
  {
   "cell_type": "markdown",
   "id": "9449ec77",
   "metadata": {},
   "source": [
    "# Feature selection"
   ]
  },
  {
   "cell_type": "code",
   "execution_count": 6,
   "id": "9c414071",
   "metadata": {
    "ExecuteTime": {
     "end_time": "2023-11-05T04:49:05.615706Z",
     "start_time": "2023-11-05T04:47:48.299047Z"
    },
    "scrolled": true
   },
   "outputs": [
    {
     "name": "stdout",
     "output_type": "stream",
     "text": [
      "[7, 29, 21, 33]\n",
      "Model:   KNR, Index of feature: [7, 29, 21, 33], Pearson R: 0.4810\n"
     ]
    }
   ],
   "source": [
    "Feature_selection = feature_selection(model_name=best_model_name,\n",
    "                    input_index=input_index,des_std=des_std,yield_std=yield_std,best_params=best_params)\n",
    "print('Model: %5s, Index of feature: %s, Pearson R: %.4f'%(best_model_name,\n",
    "                str(Feature_selection.selected_feature),Feature_selection.pear))"
   ]
  },
  {
   "cell_type": "markdown",
   "id": "e249437b",
   "metadata": {},
   "source": [
    "# Yield prediction"
   ]
  },
  {
   "cell_type": "code",
   "execution_count": 7,
   "id": "fa55f5b5",
   "metadata": {
    "ExecuteTime": {
     "end_time": "2023-11-05T04:49:05.703597Z",
     "start_time": "2023-11-05T04:49:05.689563Z"
    }
   },
   "outputs": [
    {
     "data": {
      "text/html": [
       "<div>\n",
       "<style scoped>\n",
       "    .dataframe tbody tr th:only-of-type {\n",
       "        vertical-align: middle;\n",
       "    }\n",
       "\n",
       "    .dataframe tbody tr th {\n",
       "        vertical-align: top;\n",
       "    }\n",
       "\n",
       "    .dataframe thead th {\n",
       "        text-align: right;\n",
       "    }\n",
       "</style>\n",
       "<table border=\"1\" class=\"dataframe\">\n",
       "  <thead>\n",
       "    <tr style=\"text-align: right;\">\n",
       "      <th></th>\n",
       "      <th>rank</th>\n",
       "      <th>Anode/Cathode</th>\n",
       "      <th>Solvent</th>\n",
       "      <th>Electrolyte</th>\n",
       "      <th>Current/Potential</th>\n",
       "    </tr>\n",
       "  </thead>\n",
       "  <tbody>\n",
       "    <tr>\n",
       "      <th>0</th>\n",
       "      <td>1</td>\n",
       "      <td>BDD/BDD</td>\n",
       "      <td>AcOH: TFE(1: 1)</td>\n",
       "      <td>NaOPiv</td>\n",
       "      <td>0.3 mA</td>\n",
       "    </tr>\n",
       "    <tr>\n",
       "      <th>1</th>\n",
       "      <td>2</td>\n",
       "      <td>BDD/BDD</td>\n",
       "      <td>AcOH: TFE(1: 1)</td>\n",
       "      <td>NaOPiv</td>\n",
       "      <td>0.9 mA</td>\n",
       "    </tr>\n",
       "    <tr>\n",
       "      <th>2</th>\n",
       "      <td>3</td>\n",
       "      <td>BDD/BDD</td>\n",
       "      <td>AcOH: TFE(1: 1)</td>\n",
       "      <td>NaOPiv</td>\n",
       "      <td>1.0 V</td>\n",
       "    </tr>\n",
       "    <tr>\n",
       "      <th>3</th>\n",
       "      <td>4</td>\n",
       "      <td>BDD/BDD</td>\n",
       "      <td>AcOH: TFE(1: 1)</td>\n",
       "      <td>NaOPiv</td>\n",
       "      <td>1.5 V</td>\n",
       "    </tr>\n",
       "    <tr>\n",
       "      <th>4</th>\n",
       "      <td>5</td>\n",
       "      <td>BDD/BDD</td>\n",
       "      <td>AcOH: TFE(1: 1)</td>\n",
       "      <td>NaOPiv</td>\n",
       "      <td>0.6 mA</td>\n",
       "    </tr>\n",
       "    <tr>\n",
       "      <th>5</th>\n",
       "      <td>6</td>\n",
       "      <td>BDD/BDD</td>\n",
       "      <td>AcOH: TFE(1: 1)</td>\n",
       "      <td>K3PO4</td>\n",
       "      <td>0.3 mA</td>\n",
       "    </tr>\n",
       "    <tr>\n",
       "      <th>6</th>\n",
       "      <td>7</td>\n",
       "      <td>BDD/BDD</td>\n",
       "      <td>AcOH: TFE(1: 1)</td>\n",
       "      <td>K3PO4</td>\n",
       "      <td>0.9 mA</td>\n",
       "    </tr>\n",
       "    <tr>\n",
       "      <th>7</th>\n",
       "      <td>8</td>\n",
       "      <td>BDD/BDD</td>\n",
       "      <td>AcOH: TFE(1: 1)</td>\n",
       "      <td>K3PO4</td>\n",
       "      <td>1.0 V</td>\n",
       "    </tr>\n",
       "    <tr>\n",
       "      <th>8</th>\n",
       "      <td>9</td>\n",
       "      <td>BDD/BDD</td>\n",
       "      <td>AcOH: TFE(1: 1)</td>\n",
       "      <td>K3PO4</td>\n",
       "      <td>1.5 V</td>\n",
       "    </tr>\n",
       "    <tr>\n",
       "      <th>9</th>\n",
       "      <td>10</td>\n",
       "      <td>BDD/BDD</td>\n",
       "      <td>AcOH: TFE(1: 1)</td>\n",
       "      <td>K3PO4</td>\n",
       "      <td>0.6 mA</td>\n",
       "    </tr>\n",
       "    <tr>\n",
       "      <th>10</th>\n",
       "      <td>11</td>\n",
       "      <td>BDD/BDD</td>\n",
       "      <td>AcOH: TFE(1: 1)</td>\n",
       "      <td>KOAc</td>\n",
       "      <td>0.3 mA</td>\n",
       "    </tr>\n",
       "    <tr>\n",
       "      <th>11</th>\n",
       "      <td>12</td>\n",
       "      <td>BDD/BDD</td>\n",
       "      <td>AcOH: TFE(1: 1)</td>\n",
       "      <td>KOAc</td>\n",
       "      <td>0.9 mA</td>\n",
       "    </tr>\n",
       "    <tr>\n",
       "      <th>12</th>\n",
       "      <td>13</td>\n",
       "      <td>BDD/BDD</td>\n",
       "      <td>AcOH: TFE(1: 1)</td>\n",
       "      <td>KOAc</td>\n",
       "      <td>1.0 V</td>\n",
       "    </tr>\n",
       "    <tr>\n",
       "      <th>13</th>\n",
       "      <td>14</td>\n",
       "      <td>BDD/BDD</td>\n",
       "      <td>AcOH: TFE(1: 1)</td>\n",
       "      <td>KOAc</td>\n",
       "      <td>1.5 V</td>\n",
       "    </tr>\n",
       "    <tr>\n",
       "      <th>14</th>\n",
       "      <td>15</td>\n",
       "      <td>BDD/BDD</td>\n",
       "      <td>AcOH: TFE(1: 1)</td>\n",
       "      <td>KOAc</td>\n",
       "      <td>0.6 mA</td>\n",
       "    </tr>\n",
       "    <tr>\n",
       "      <th>15</th>\n",
       "      <td>16</td>\n",
       "      <td>BDD/BDD</td>\n",
       "      <td>AcOH: TFE(1: 1)</td>\n",
       "      <td>LiClO4</td>\n",
       "      <td>0.3 mA</td>\n",
       "    </tr>\n",
       "    <tr>\n",
       "      <th>16</th>\n",
       "      <td>17</td>\n",
       "      <td>BDD/BDD</td>\n",
       "      <td>AcOH: TFE(1: 1)</td>\n",
       "      <td>LiClO4</td>\n",
       "      <td>0.9 mA</td>\n",
       "    </tr>\n",
       "    <tr>\n",
       "      <th>17</th>\n",
       "      <td>18</td>\n",
       "      <td>BDD/BDD</td>\n",
       "      <td>AcOH: TFE(1: 1)</td>\n",
       "      <td>LiClO4</td>\n",
       "      <td>1.0 V</td>\n",
       "    </tr>\n",
       "    <tr>\n",
       "      <th>18</th>\n",
       "      <td>19</td>\n",
       "      <td>BDD/BDD</td>\n",
       "      <td>AcOH: TFE(1: 1)</td>\n",
       "      <td>LiClO4</td>\n",
       "      <td>1.5 V</td>\n",
       "    </tr>\n",
       "    <tr>\n",
       "      <th>19</th>\n",
       "      <td>20</td>\n",
       "      <td>BDD/BDD</td>\n",
       "      <td>AcOH: TFE(1: 1)</td>\n",
       "      <td>LiClO4</td>\n",
       "      <td>0.6 mA</td>\n",
       "    </tr>\n",
       "  </tbody>\n",
       "</table>\n",
       "</div>"
      ],
      "text/plain": [
       "   rank Anode/Cathode          Solvent Electrolyte Current/Potential\n",
       "0     1       BDD/BDD  AcOH: TFE(1: 1)      NaOPiv            0.3 mA\n",
       "1     2       BDD/BDD  AcOH: TFE(1: 1)      NaOPiv            0.9 mA\n",
       "2     3       BDD/BDD  AcOH: TFE(1: 1)      NaOPiv             1.0 V\n",
       "3     4       BDD/BDD  AcOH: TFE(1: 1)      NaOPiv             1.5 V\n",
       "4     5       BDD/BDD  AcOH: TFE(1: 1)      NaOPiv            0.6 mA\n",
       "5     6       BDD/BDD  AcOH: TFE(1: 1)       K3PO4            0.3 mA\n",
       "6     7       BDD/BDD  AcOH: TFE(1: 1)       K3PO4            0.9 mA\n",
       "7     8       BDD/BDD  AcOH: TFE(1: 1)       K3PO4             1.0 V\n",
       "8     9       BDD/BDD  AcOH: TFE(1: 1)       K3PO4             1.5 V\n",
       "9    10       BDD/BDD  AcOH: TFE(1: 1)       K3PO4            0.6 mA\n",
       "10   11       BDD/BDD  AcOH: TFE(1: 1)        KOAc            0.3 mA\n",
       "11   12       BDD/BDD  AcOH: TFE(1: 1)        KOAc            0.9 mA\n",
       "12   13       BDD/BDD  AcOH: TFE(1: 1)        KOAc             1.0 V\n",
       "13   14       BDD/BDD  AcOH: TFE(1: 1)        KOAc             1.5 V\n",
       "14   15       BDD/BDD  AcOH: TFE(1: 1)        KOAc            0.6 mA\n",
       "15   16       BDD/BDD  AcOH: TFE(1: 1)      LiClO4            0.3 mA\n",
       "16   17       BDD/BDD  AcOH: TFE(1: 1)      LiClO4            0.9 mA\n",
       "17   18       BDD/BDD  AcOH: TFE(1: 1)      LiClO4             1.0 V\n",
       "18   19       BDD/BDD  AcOH: TFE(1: 1)      LiClO4             1.5 V\n",
       "19   20       BDD/BDD  AcOH: TFE(1: 1)      LiClO4            0.6 mA"
      ]
     },
     "execution_count": 7,
     "metadata": {},
     "output_type": "execute_result"
    }
   ],
   "source": [
    "sorted_pre_yield = get_sorted_pre_yield(model_name=best_model_name,\n",
    "input_index=input_index,des_std=des_std,yield_std=yield_std,\n",
    "selected_feature=Feature_selection.selected_feature,best_params=best_params)\n",
    "#Yield top 20 reaction condition combination\n",
    "format_output(sorted_pre_yield[:20])"
   ]
  },
  {
   "cell_type": "markdown",
   "id": "1809fcd2",
   "metadata": {},
   "source": [
    "# Orthogonal selection"
   ]
  },
  {
   "cell_type": "code",
   "execution_count": 8,
   "id": "1065f0a9",
   "metadata": {
    "ExecuteTime": {
     "end_time": "2023-11-05T04:49:05.832830Z",
     "start_time": "2023-11-05T04:49:05.823344Z"
    }
   },
   "outputs": [
    {
     "data": {
      "text/html": [
       "<div>\n",
       "<style scoped>\n",
       "    .dataframe tbody tr th:only-of-type {\n",
       "        vertical-align: middle;\n",
       "    }\n",
       "\n",
       "    .dataframe tbody tr th {\n",
       "        vertical-align: top;\n",
       "    }\n",
       "\n",
       "    .dataframe thead th {\n",
       "        text-align: right;\n",
       "    }\n",
       "</style>\n",
       "<table border=\"1\" class=\"dataframe\">\n",
       "  <thead>\n",
       "    <tr style=\"text-align: right;\">\n",
       "      <th></th>\n",
       "      <th>rank</th>\n",
       "      <th>Anode/Cathode</th>\n",
       "      <th>Solvent</th>\n",
       "      <th>Electrolyte</th>\n",
       "      <th>Current/Potential</th>\n",
       "    </tr>\n",
       "  </thead>\n",
       "  <tbody>\n",
       "    <tr>\n",
       "      <th>0</th>\n",
       "      <td>5</td>\n",
       "      <td>BDD/BDD</td>\n",
       "      <td>AcOH: TFE(1: 1)</td>\n",
       "      <td>NaOPiv</td>\n",
       "      <td>0.6 mA</td>\n",
       "    </tr>\n",
       "    <tr>\n",
       "      <th>1</th>\n",
       "      <td>53</td>\n",
       "      <td>GF/GF</td>\n",
       "      <td>AcOH: TFE(1: 1)</td>\n",
       "      <td>K3PO4</td>\n",
       "      <td>1.0 V</td>\n",
       "    </tr>\n",
       "    <tr>\n",
       "      <th>2</th>\n",
       "      <td>450</td>\n",
       "      <td>GF/Pt</td>\n",
       "      <td>AcOH</td>\n",
       "      <td>NaOPiv</td>\n",
       "      <td>0.9 mA</td>\n",
       "    </tr>\n",
       "    <tr>\n",
       "      <th>3</th>\n",
       "      <td>602</td>\n",
       "      <td>BDD/GF</td>\n",
       "      <td>AcOH</td>\n",
       "      <td>LiClO4</td>\n",
       "      <td>0.6 mA</td>\n",
       "    </tr>\n",
       "  </tbody>\n",
       "</table>\n",
       "</div>"
      ],
      "text/plain": [
       "  rank Anode/Cathode          Solvent Electrolyte Current/Potential\n",
       "0    5       BDD/BDD  AcOH: TFE(1: 1)      NaOPiv            0.6 mA\n",
       "1   53         GF/GF  AcOH: TFE(1: 1)       K3PO4             1.0 V\n",
       "2  450         GF/Pt             AcOH      NaOPiv            0.9 mA\n",
       "3  602        BDD/GF             AcOH      LiClO4            0.6 mA"
      ]
     },
     "execution_count": 8,
     "metadata": {},
     "output_type": "execute_result"
    }
   ],
   "source": [
    "#Choose to do the experiment\n",
    "orthogonal_selection = get_orthogonal_selection(n_round=n_round,\n",
    "                    input_data=input_data,sorted_pre_yield=sorted_pre_yield)\n",
    "format_output(orthogonal_selection)"
   ]
  },
  {
   "cell_type": "markdown",
   "id": "a96c707e",
   "metadata": {},
   "source": [
    "# Results"
   ]
  },
  {
   "cell_type": "markdown",
   "id": "b06612ec",
   "metadata": {},
   "source": [
    "## Round1"
   ]
  },
  {
   "cell_type": "code",
   "execution_count": 3,
   "id": "a499ea0f",
   "metadata": {
    "ExecuteTime": {
     "end_time": "2024-03-08T11:20:43.463592Z",
     "start_time": "2024-03-08T11:20:43.275234Z"
    }
   },
   "outputs": [
    {
     "name": "stdout",
     "output_type": "stream",
     "text": [
      "  rank Anode/Cathode          Solvent Electrolyte Current/Potential\n",
      "0    5       BDD/BDD  AcOH: TFE(1: 1)      NaOPiv            0.6 mA\n",
      "1   53         GF/GF  AcOH: TFE(1: 1)       K3PO4             1.0 V\n",
      "2  450         GF/Pt             AcOH      NaOPiv            0.9 mA\n",
      "3  602        BDD/GF             AcOH      LiClO4            0.6 mA"
     ]
    }
   ],
   "source": [
    "get_results(n_round=1,model_name='KNR',best_params={'KNR':{'n_neighbors': 4}},sel_feature=[7, 29, 21, 33])"
   ]
  },
  {
   "cell_type": "markdown",
   "id": "1f586a6b",
   "metadata": {},
   "source": [
    "## Round2"
   ]
  },
  {
   "cell_type": "code",
   "execution_count": 4,
   "id": "b4bfb63c",
   "metadata": {
    "ExecuteTime": {
     "end_time": "2024-03-08T11:21:41.996841Z",
     "start_time": "2024-03-08T11:21:41.905259Z"
    }
   },
   "outputs": [
    {
     "name": "stdout",
     "output_type": "stream",
     "text": [
      "  rank Anode/Cathode           Solvent Electrolyte Current/Potential\n",
      "0   14         GF/GF  AcOH: EtOH(1: 1)    nBu4NPF6            0.6 mA\n",
      "1  106         Pt/GF   TFE: EtOH(1: 1)       K3PO4            0.6 mA\n",
      "2  260         Pt/GF              AcOH    nBu4NPF6             1.5 V\n",
      "3  320        BDD/GF  AcOH: EtOH(1: 1)       K3PO4            0.9 mA"
     ]
    }
   ],
   "source": [
    "get_results(n_round=2,model_name='LSVR',best_params={'LSVR':{'C': 9, 'epsilon': 0.05}},sel_feature=[21, 8, 4, 33, 32, 31, 0, 9, 28, 12, 3])"
   ]
  },
  {
   "cell_type": "markdown",
   "id": "07bb1eec",
   "metadata": {},
   "source": [
    "## Round3"
   ]
  },
  {
   "cell_type": "code",
   "execution_count": 6,
   "id": "808c3462",
   "metadata": {
    "ExecuteTime": {
     "end_time": "2024-03-08T11:22:02.244191Z",
     "start_time": "2024-03-08T11:22:02.100734Z"
    }
   },
   "outputs": [
    {
     "name": "stdout",
     "output_type": "stream",
     "text": [
      "  rank Anode/Cathode          Solvent Electrolyte Current/Potential\n",
      "0  232        BDD/GF  AcOH: TFE(1: 1)    nBu4NPF6            1.2 mA\n",
      "1  586        BDD/Pt             AcOH     NaO2CAd            1.2 mA"
     ]
    }
   ],
   "source": [
    "get_results(n_round=3,model_name='GB',best_params={'GB':{'max_depth': 3, 'n_estimators': 200}},sel_feature=[10, 5, 7, 35, 31, 19, 12, 9, 13])"
   ]
  },
  {
   "cell_type": "markdown",
   "id": "e0172635",
   "metadata": {},
   "source": [
    "## Round4"
   ]
  },
  {
   "cell_type": "code",
   "execution_count": 7,
   "id": "5141d901",
   "metadata": {
    "ExecuteTime": {
     "end_time": "2024-03-08T11:23:28.200480Z",
     "start_time": "2024-03-08T11:23:28.060242Z"
    }
   },
   "outputs": [
    {
     "name": "stdout",
     "output_type": "stream",
     "text": [
      "  rank Anode/Cathode          Solvent Electrolyte Current/Potential\n",
      "0   16         GF/Pt  AcOH: TFE(1: 1)      LiClO4            0.6 mA\n",
      "1   32         GF/Pt             AcOH       K3PO4            0.6 mA\n",
      "2   50        BDD/GF  AcOH: TFE(1: 1)       K3PO4            0.6 mA\n",
      "3   65       BDD/BDD             AcOH     NaO2CAd            0.6 mA"
     ]
    }
   ],
   "source": [
    "get_results(n_round=4,model_name='GB',best_params={'GB':{'max_depth': 5, 'n_estimators': 50}},sel_feature=[10, 19, 31, 12, 2, 35, 13, 7, 6, 11, 9])"
   ]
  },
  {
   "cell_type": "markdown",
   "id": "39b2783b",
   "metadata": {},
   "source": [
    "## Round5"
   ]
  },
  {
   "cell_type": "code",
   "execution_count": 8,
   "id": "90ed12cc",
   "metadata": {
    "ExecuteTime": {
     "end_time": "2024-03-08T11:23:29.782686Z",
     "start_time": "2024-03-08T11:23:29.698966Z"
    }
   },
   "outputs": [
    {
     "name": "stdout",
     "output_type": "stream",
     "text": [
      "  rank Anode/Cathode          Solvent Electrolyte Current/Potential\n",
      "0    1         GF/Fe    AcOH       LiOAc            0.6 mA\n",
      "1   31        GF/BDD    AcOH       NaOAc            0.6 mA\n",
      "2   54        BDD/Fe    AcOH      NaOPiv            0.6 mA\n",
      "3   65        BDD/Pt    AcOH    nBu4NPF6            0.6 mA"
     ]
    }
   ],
   "source": [
    "get_results(n_round=5,model_name='LSVR',best_params={'LSVR':{'C': 3, 'epsilon': 0.05}},sel_feature=[7, 21, 18, 31, 14, 1, 2, 0, 29])"
   ]
  },
  {
   "cell_type": "markdown",
   "id": "7c163bbe",
   "metadata": {},
   "source": [
    "## Round6"
   ]
  },
  {
   "cell_type": "code",
   "execution_count": 9,
   "id": "2bb39fd5",
   "metadata": {
    "ExecuteTime": {
     "end_time": "2024-03-08T11:23:31.424778Z",
     "start_time": "2024-03-08T11:23:31.333885Z"
    }
   },
   "outputs": [
    {
     "name": "stdout",
     "output_type": "stream",
     "text": [
      "  rank Anode/Cathode          Solvent Electrolyte Current/Potential\n",
      "0   20         GF/GF  AcOH: TFE(1: 1)       LiOAc            0.6 mA\n",
      "1   35         Fe/GF  AcOH: TFE(1: 1)       NaOAc            0.6 mA\n",
      "2   69         GF/GF             AcOH        KOAc            0.6 mA\n",
      "3   94         Pt/GF  AcOH: TFE(1: 1)     NaO2CAd            0.6 mA\n"
     ]
    }
   ],
   "source": [
    "get_results(n_round=6,model_name='KRR',best_params={'KRR':{'gamma': None}},\n",
    "                sel_feature=[21, 31, 14, 0, 18, 28, 1, 11, 2, 24, 13, 6])"
   ]
  },
  {
   "cell_type": "markdown",
   "id": "07cec506",
   "metadata": {},
   "source": [
    "## Round7"
   ]
  },
  {
   "cell_type": "code",
   "execution_count": 10,
   "id": "75b59337",
   "metadata": {
    "ExecuteTime": {
     "end_time": "2024-03-08T11:23:32.771054Z",
     "start_time": "2024-03-08T11:23:32.573608Z"
    }
   },
   "outputs": [
    {
     "name": "stdout",
     "output_type": "stream",
     "text": [
      "  rank Anode/Cathode          Solvent Electrolyte Current/Potential\n",
      "0    1       BDD/BDD  AcOH: TFE(1: 1)     NaO2CAd             1.0 V\n",
      "1    3        BDD/GF  AcOH: TFE(1: 1)       NaOAc             1.0 V\n",
      "2   18        BDD/Pt  AcOH: TFE(1: 1)        KOAc            0.6 mA\n",
      "3   33        BDD/Fe  AcOH: TFE(1: 1)     NaO2CAd            0.9 mA"
     ]
    }
   ],
   "source": [
    "get_results(n_round=7,model_name='KNR',best_params={'KNR':{'n_neighbors': 2}},\n",
    "                sel_feature=[12, 1, 16, 30, 23, 35, 7, 4, 11, 17, 21, 32, 8, 6, 14, 9, 13, 10, 33, 2, 25, 0, 18, 19, 22, 15, 31, 20, 29, 27, 34])"
   ]
  },
  {
   "cell_type": "markdown",
   "id": "909bba34",
   "metadata": {},
   "source": [
    "## Round8"
   ]
  },
  {
   "cell_type": "code",
   "execution_count": 11,
   "id": "e26af442",
   "metadata": {
    "ExecuteTime": {
     "end_time": "2024-03-08T11:23:34.571126Z",
     "start_time": "2024-03-08T11:23:34.486352Z"
    }
   },
   "outputs": [
    {
     "name": "stdout",
     "output_type": "stream",
     "text": [
      "  rank Anode/Cathode          Solvent Electrolyte Current/Potential\n",
      "0    6        BDD/GF  AcOH: TFE(1: 1)     NaO2CAd            0.3 mA\n",
      "1   19         GF/GF  AcOH: TFE(1: 1)     NaO2CAd            1.2 mA\n",
      "2   27        Pt/BDD  AcOH: TFE(1: 1)     NaO2CAd             1.5 V\n",
      "3   34         Pt/GF  AcOH: TFE(1: 1)       NaOAc            0.3 mA"
     ]
    }
   ],
   "source": [
    "get_results(n_round=8,model_name='ET',best_params={'ET':{'max_depth': None, 'n_estimators': 400}},\n",
    "                sel_feature=[7, 3, 29, 12, 2, 14, 11, 1, 21, 19, 4, 35])"
   ]
  },
  {
   "cell_type": "markdown",
   "id": "3b66056b",
   "metadata": {},
   "source": [
    "## Round9"
   ]
  },
  {
   "cell_type": "code",
   "execution_count": 12,
   "id": "31d8fc3a",
   "metadata": {
    "ExecuteTime": {
     "end_time": "2024-03-08T11:23:35.608909Z",
     "start_time": "2024-03-08T11:23:35.456821Z"
    }
   },
   "outputs": [
    {
     "name": "stdout",
     "output_type": "stream",
     "text": [
      "  rank Anode/Cathode          Solvent Electrolyte Current/Potential\n",
      "0    3         GF/Pt  AcOH: TFE(1: 1)      NaOPiv            1.2 mA\n",
      "1    8         GF/Pt  AcOH: TFE(1: 1)       K3PO4            0.9 mA\n",
      "2   16         GF/Pt  AcOH: TFE(1: 1)        KOAc             1.0 V\n",
      "3   28         GF/Pt  AcOH: TFE(1: 1)       LiOAc             1.5 V"
     ]
    }
   ],
   "source": [
    "get_results(n_round=9,model_name='GB',best_params={'GB':{'max_depth': 3, 'n_estimators': 50}},\n",
    "                sel_feature=[10, 19, 4, 11, 18, 14, 12, 7])"
   ]
  },
  {
   "cell_type": "markdown",
   "id": "8a3d0ba6",
   "metadata": {},
   "source": [
    "## Round10"
   ]
  },
  {
   "cell_type": "code",
   "execution_count": 13,
   "id": "53d5c6c5",
   "metadata": {
    "ExecuteTime": {
     "end_time": "2024-03-08T11:23:36.685086Z",
     "start_time": "2024-03-08T11:23:36.586968Z"
    }
   },
   "outputs": [
    {
     "name": "stdout",
     "output_type": "stream",
     "text": [
      "  rank Anode/Cathode          Solvent Electrolyte Current/Potential\n",
      "0    7       BDD/BDD  AcOH: TFE(1: 1)       NaOAc            0.9 mA\n",
      "1   18        BDD/Pt  AcOH: TFE(1: 1)       NaOAc             1.5 V"
     ]
    }
   ],
   "source": [
    "get_results(n_round=10,model_name='GB',best_params={'GB':{'max_depth': 3, 'n_estimators': 50}},\n",
    "                sel_feature=[19, 10, 4, 33, 14, 9, 8, 16, 18, 23, 20, 21, 15, 22, 17, 12, 13, 11, 7, 6, 1, 3, 0, 29, 35])"
   ]
  },
  {
   "cell_type": "markdown",
   "id": "b9f2977f",
   "metadata": {},
   "source": [
    "## Round11"
   ]
  },
  {
   "cell_type": "code",
   "execution_count": 14,
   "id": "f3faa744",
   "metadata": {
    "ExecuteTime": {
     "end_time": "2024-03-08T11:23:38.413623Z",
     "start_time": "2024-03-08T11:23:38.153493Z"
    }
   },
   "outputs": [
    {
     "name": "stdout",
     "output_type": "stream",
     "text": [
      "  rank Anode/Cathode          Solvent Electrolyte Current/Potential\n",
      "0     1         GF/Pt  AcOH: TFE(1: 1)      NaOPiv            0.3 mA\n",
      "1     2         GF/Pt  AcOH: TFE(1: 1)      NaOPiv             1.0 V\n",
      "2     3         GF/Pt  AcOH: TFE(1: 1)      NaOPiv            0.6 mA\n",
      "3     4         GF/Pt  AcOH: TFE(1: 1)       K3PO4            0.3 mA\n",
      "4     5         GF/Pt  AcOH: TFE(1: 1)       K3PO4             1.0 V\n",
      "5     6         GF/Pt  AcOH: TFE(1: 1)       K3PO4            0.6 mA\n",
      "6     7         GF/Pt  AcOH: TFE(1: 1)        KOAc            0.3 mA\n",
      "7     8         GF/Pt  AcOH: TFE(1: 1)        KOAc            0.6 mA\n",
      "8     9         GF/Pt  AcOH: TFE(1: 1)      LiClO4            0.3 mA\n",
      "9    10         GF/Pt  AcOH: TFE(1: 1)      LiClO4             1.0 V\n",
      "10   11         GF/Pt  AcOH: TFE(1: 1)       LiOAc            0.3 mA\n",
      "11   12         GF/Pt  AcOH: TFE(1: 1)       LiOAc             1.0 V\n",
      "12   13         GF/Pt  AcOH: TFE(1: 1)       LiOAc            0.6 mA\n",
      "13   14         GF/Pt  AcOH: TFE(1: 1)     NaO2CAd            0.3 mA\n",
      "14   15         GF/Pt  AcOH: TFE(1: 1)     NaO2CAd             1.0 V\n",
      "15   16         GF/Pt  AcOH: TFE(1: 1)     NaO2CAd            0.6 mA\n",
      "16   17         GF/Pt  AcOH: TFE(1: 1)       NaOAc            0.3 mA\n",
      "17   18         GF/Pt  AcOH: TFE(1: 1)       NaOAc             1.0 V\n",
      "18   19         GF/Pt  AcOH: TFE(1: 1)       NaOAc            0.6 mA\n",
      "19   20         GF/Pt  AcOH: TFE(1: 1)    nBu4NOAc             1.0 V"
     ]
    }
   ],
   "source": [
    "get_results(n_round=11,model_name='ET',best_params={'ET':{'max_depth': 10, 'n_estimators': 300}},\n",
    "                sel_feature=[19, 10, 22, 23, 33, 7, 6, 32, 35])"
   ]
  }
 ],
 "metadata": {
  "kernelspec": {
   "display_name": "Python 3",
   "language": "python",
   "name": "python3"
  },
  "language_info": {
   "codemirror_mode": {
    "name": "ipython",
    "version": 3
   },
   "file_extension": ".py",
   "mimetype": "text/x-python",
   "name": "python",
   "nbconvert_exporter": "python",
   "pygments_lexer": "ipython3",
   "version": "3.8.12"
  },
  "toc": {
   "base_numbering": 1,
   "nav_menu": {},
   "number_sections": true,
   "sideBar": true,
   "skip_h1_title": false,
   "title_cell": "Table of Contents",
   "title_sidebar": "Contents",
   "toc_cell": false,
   "toc_position": {
    "height": "379px",
    "left": "23px",
    "top": "135.688px",
    "width": "165px"
   },
   "toc_section_display": true,
   "toc_window_display": true
  },
  "varInspector": {
   "cols": {
    "lenName": 16,
    "lenType": 16,
    "lenVar": 40
   },
   "kernels_config": {
    "python": {
     "delete_cmd_postfix": "",
     "delete_cmd_prefix": "del ",
     "library": "var_list.py",
     "varRefreshCmd": "print(var_dic_list())"
    },
    "r": {
     "delete_cmd_postfix": ") ",
     "delete_cmd_prefix": "rm(",
     "library": "var_list.r",
     "varRefreshCmd": "cat(var_dic_list()) "
    }
   },
   "types_to_exclude": [
    "module",
    "function",
    "builtin_function_or_method",
    "instance",
    "_Feature"
   ],
   "window_display": false
  }
 },
 "nbformat": 4,
 "nbformat_minor": 5
}
