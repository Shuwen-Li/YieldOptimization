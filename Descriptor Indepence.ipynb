{
 "cells": [
  {
   "cell_type": "markdown",
   "id": "76606a6b",
   "metadata": {},
   "source": [
    "# Load Dependencies"
   ]
  },
  {
   "cell_type": "code",
   "execution_count": 1,
   "id": "9103da5d",
   "metadata": {
    "ExecuteTime": {
     "end_time": "2023-12-13T05:58:04.846296Z",
     "start_time": "2023-12-13T05:58:04.168220Z"
    }
   },
   "outputs": [],
   "source": [
    "import pandas as pd\n",
    "from feature_engine.selection import SmartCorrelatedSelection\n",
    "from script.utils import get_ori_independence"
   ]
  },
  {
   "cell_type": "markdown",
   "id": "be5fc15d",
   "metadata": {},
   "source": [
    "# Descriptor Indepence"
   ]
  },
  {
   "cell_type": "code",
   "execution_count": 2,
   "id": "1c8ef28a",
   "metadata": {
    "ExecuteTime": {
     "end_time": "2023-11-05T02:42:34.533624Z",
     "start_time": "2023-11-05T02:42:34.489939Z"
    }
   },
   "outputs": [
    {
     "name": "stdout",
     "output_type": "stream",
     "text": [
      "21 3 7 6\n",
      "10 3 7 6\n"
     ]
    },
    {
     "data": {
      "text/html": [
       "<div>\n",
       "<style scoped>\n",
       "    .dataframe tbody tr th:only-of-type {\n",
       "        vertical-align: middle;\n",
       "    }\n",
       "\n",
       "    .dataframe tbody tr th {\n",
       "        vertical-align: top;\n",
       "    }\n",
       "\n",
       "    .dataframe thead th {\n",
       "        text-align: right;\n",
       "    }\n",
       "</style>\n",
       "<table border=\"1\" class=\"dataframe\">\n",
       "  <thead>\n",
       "    <tr style=\"text-align: right;\">\n",
       "      <th></th>\n",
       "      <th>Solvent selections</th>\n",
       "      <th>Electrochemical Window start / V</th>\n",
       "      <th>Delta Electrochemical Window/ V</th>\n",
       "      <th>Viscosity / mPa.s</th>\n",
       "      <th>Complexity</th>\n",
       "      <th>HeavyAtomCount</th>\n",
       "      <th>XStericQuadrupole3D</th>\n",
       "      <th>YStericQuadrupole3D</th>\n",
       "      <th>ZStericQuadrupole3D</th>\n",
       "      <th>FeatureDonorCount3D</th>\n",
       "      <th>...</th>\n",
       "      <th>conductivity in EtOH / μS/cm</th>\n",
       "      <th>conductivity in TFE / μS/cm</th>\n",
       "      <th>Onset potential of A / V</th>\n",
       "      <th>Tafel slope of A / mV/dec</th>\n",
       "      <th>0</th>\n",
       "      <th>1</th>\n",
       "      <th>2</th>\n",
       "      <th>3</th>\n",
       "      <th>4</th>\n",
       "      <th>5</th>\n",
       "    </tr>\n",
       "  </thead>\n",
       "  <tbody>\n",
       "    <tr>\n",
       "      <th>0</th>\n",
       "      <td>AcOH</td>\n",
       "      <td>1.95</td>\n",
       "      <td>2.51</td>\n",
       "      <td>1.0560</td>\n",
       "      <td>31.0</td>\n",
       "      <td>4.0</td>\n",
       "      <td>1.33</td>\n",
       "      <td>1.11</td>\n",
       "      <td>0.56</td>\n",
       "      <td>0.0</td>\n",
       "      <td>...</td>\n",
       "      <td>789.2</td>\n",
       "      <td>621.2</td>\n",
       "      <td>1.5088</td>\n",
       "      <td>138</td>\n",
       "      <td>1.0</td>\n",
       "      <td>0.0</td>\n",
       "      <td>0.0</td>\n",
       "      <td>0.0</td>\n",
       "      <td>0.0</td>\n",
       "      <td>0.0</td>\n",
       "    </tr>\n",
       "    <tr>\n",
       "      <th>1</th>\n",
       "      <td>TFE</td>\n",
       "      <td>3.21</td>\n",
       "      <td>5.72</td>\n",
       "      <td>1.7546</td>\n",
       "      <td>38.0</td>\n",
       "      <td>6.0</td>\n",
       "      <td>1.70</td>\n",
       "      <td>0.93</td>\n",
       "      <td>0.86</td>\n",
       "      <td>1.0</td>\n",
       "      <td>...</td>\n",
       "      <td>351.8</td>\n",
       "      <td>630.2</td>\n",
       "      <td>1.5112</td>\n",
       "      <td>190</td>\n",
       "      <td>0.0</td>\n",
       "      <td>1.0</td>\n",
       "      <td>0.0</td>\n",
       "      <td>0.0</td>\n",
       "      <td>0.0</td>\n",
       "      <td>0.0</td>\n",
       "    </tr>\n",
       "    <tr>\n",
       "      <th>2</th>\n",
       "      <td>EtOH</td>\n",
       "      <td>2.11</td>\n",
       "      <td>4.51</td>\n",
       "      <td>1.0740</td>\n",
       "      <td>2.0</td>\n",
       "      <td>3.0</td>\n",
       "      <td>1.48</td>\n",
       "      <td>0.75</td>\n",
       "      <td>0.58</td>\n",
       "      <td>1.0</td>\n",
       "      <td>...</td>\n",
       "      <td>855.1</td>\n",
       "      <td>320.4</td>\n",
       "      <td>1.4966</td>\n",
       "      <td>143</td>\n",
       "      <td>0.0</td>\n",
       "      <td>0.0</td>\n",
       "      <td>1.0</td>\n",
       "      <td>0.0</td>\n",
       "      <td>0.0</td>\n",
       "      <td>0.0</td>\n",
       "    </tr>\n",
       "    <tr>\n",
       "      <th>3</th>\n",
       "      <td>MeCN</td>\n",
       "      <td>4.17</td>\n",
       "      <td>7.10</td>\n",
       "      <td>0.3330</td>\n",
       "      <td>29.0</td>\n",
       "      <td>3.0</td>\n",
       "      <td>1.69</td>\n",
       "      <td>0.59</td>\n",
       "      <td>0.59</td>\n",
       "      <td>0.0</td>\n",
       "      <td>...</td>\n",
       "      <td>212.4</td>\n",
       "      <td>510.5</td>\n",
       "      <td>1.5063</td>\n",
       "      <td>185</td>\n",
       "      <td>0.0</td>\n",
       "      <td>0.0</td>\n",
       "      <td>0.0</td>\n",
       "      <td>1.0</td>\n",
       "      <td>0.0</td>\n",
       "      <td>0.0</td>\n",
       "    </tr>\n",
       "  </tbody>\n",
       "</table>\n",
       "<p>4 rows × 26 columns</p>\n",
       "</div>"
      ],
      "text/plain": [
       "  Solvent selections  Electrochemical Window start / V  \\\n",
       "0               AcOH                              1.95   \n",
       "1                TFE                              3.21   \n",
       "2               EtOH                              2.11   \n",
       "3               MeCN                              4.17   \n",
       "\n",
       "   Delta Electrochemical Window/ V  Viscosity / mPa.s  Complexity  \\\n",
       "0                             2.51             1.0560        31.0   \n",
       "1                             5.72             1.7546        38.0   \n",
       "2                             4.51             1.0740         2.0   \n",
       "3                             7.10             0.3330        29.0   \n",
       "\n",
       "   HeavyAtomCount  XStericQuadrupole3D  YStericQuadrupole3D  \\\n",
       "0             4.0                 1.33                 1.11   \n",
       "1             6.0                 1.70                 0.93   \n",
       "2             3.0                 1.48                 0.75   \n",
       "3             3.0                 1.69                 0.59   \n",
       "\n",
       "   ZStericQuadrupole3D  FeatureDonorCount3D  ... conductivity in EtOH / μS/cm  \\\n",
       "0                 0.56                  0.0  ...                        789.2   \n",
       "1                 0.86                  1.0  ...                        351.8   \n",
       "2                 0.58                  1.0  ...                        855.1   \n",
       "3                 0.59                  0.0  ...                        212.4   \n",
       "\n",
       "   conductivity in TFE / μS/cm  Onset potential of A / V  \\\n",
       "0                        621.2                    1.5088   \n",
       "1                        630.2                    1.5112   \n",
       "2                        320.4                    1.4966   \n",
       "3                        510.5                    1.5063   \n",
       "\n",
       "  Tafel slope of A / mV/dec    0    1    2    3    4    5  \n",
       "0                       138  1.0  0.0  0.0  0.0  0.0  0.0  \n",
       "1                       190  0.0  1.0  0.0  0.0  0.0  0.0  \n",
       "2                       143  0.0  0.0  1.0  0.0  0.0  0.0  \n",
       "3                       185  0.0  0.0  0.0  1.0  0.0  0.0  \n",
       "\n",
       "[4 rows x 26 columns]"
      ]
     },
     "execution_count": 4,
     "metadata": {},
     "output_type": "execute_result"
    }
   ],
   "source": [
    "selector = SmartCorrelatedSelection(threshold=0.9, method='pearson')\n",
    "\n",
    "pure_solvents=pd.read_excel('descriptor/descriptors of pure solvents.xlsx')\n",
    "pure_electrodes=pd.read_excel('descriptor/descriptors of pure electrodes.xlsx')\n",
    "pure_electrolytes=pd.read_excel('descriptor/descriptors of pure electrolytes.xlsx')\n",
    "cp2onehot = {'0.3 mA':[1,0,0,0,0,0],'0.6 mA':[0,1,0,0,0,0],\n",
    "             '0.9 mA':[0,0,1,0,0,0],'1.2 mA':[0,0,0,1,0,0],\n",
    "             '1.0 V':[0,0,0,0,1,0],'1.5 V':[0,0,0,0,0,1]}\n",
    "pure_cp = pd.DataFrame([cp2onehot[i] for i in cp2onehot.keys()])\n",
    "print(pure_solvents.shape[1], pure_electrodes.shape[1], pure_electrolytes.shape[1],pure_cp.shape[1])\n",
    "\n",
    "pure_solvents=selector.fit_transform(pure_solvents)\n",
    "pure_electrodes=selector.fit_transform(pure_electrodes)\n",
    "pure_electrolytes=selector.fit_transform(pure_electrolytes)\n",
    "pure_cp=selector.fit_transform(pure_cp)\n",
    "print(pure_solvents.shape[1], pure_electrodes.shape[1], pure_electrolytes.shape[1],pure_cp.shape[1])\n",
    "low_cd = pd.concat([pure_solvents, pure_electrodes, pure_electrolytes,pure_cp], axis=1)\n",
    "low_cd.head(4)"
   ]
  },
  {
   "cell_type": "markdown",
   "id": "4d9ae034",
   "metadata": {},
   "source": [
    "# Results of solvent"
   ]
  },
  {
   "cell_type": "code",
   "execution_count": 3,
   "id": "acc7ebb9",
   "metadata": {
    "ExecuteTime": {
     "end_time": "2023-12-13T05:58:14.139401Z",
     "start_time": "2023-12-13T05:58:14.016479Z"
    }
   },
   "outputs": [
    {
     "data": {
      "image/png": "[encoded data removed]",
      "text/plain": [
       "<Figure size 640x480 with 2 Axes>"
      ]
     },
     "metadata": {},
     "output_type": "display_data"
    }
   ],
   "source": [
    "relation,name=get_ori_independence('descriptor/descriptors of pure solvents.xlsx','sol')"
   ]
  },
  {
   "cell_type": "code",
   "execution_count": 4,
   "id": "d7b2f731",
   "metadata": {
    "ExecuteTime": {
     "end_time": "2023-12-13T05:58:15.902386Z",
     "start_time": "2023-12-13T05:58:15.803721Z"
    }
   },
   "outputs": [
    {
     "data": {
      "image/png": "[encoded data removed]",
      "text/plain": [
       "<Figure size 640x480 with 2 Axes>"
      ]
     },
     "metadata": {},
     "output_type": "display_data"
    }
   ],
   "source": [
    "relation,name=get_ori_independence('descriptor/descriptors of solvents indepence.xlsx','sol')"
   ]
  },
  {
   "cell_type": "markdown",
   "id": "29dd9ff0",
   "metadata": {
    "ExecuteTime": {
     "end_time": "2023-12-13T05:45:50.430110Z",
     "start_time": "2023-12-13T05:45:50.423782Z"
    }
   },
   "source": [
    "# Results of electrodes"
   ]
  },
  {
   "cell_type": "code",
   "execution_count": 5,
   "id": "3b627f91",
   "metadata": {
    "ExecuteTime": {
     "end_time": "2023-12-13T05:58:17.364062Z",
     "start_time": "2023-12-13T05:58:17.266169Z"
    }
   },
   "outputs": [
    {
     "data": {
      "image/png": "[encoded data removed]",
      "text/plain": [
       "<Figure size 640x480 with 2 Axes>"
      ]
     },
     "metadata": {},
     "output_type": "display_data"
    }
   ],
   "source": [
    "relation,name=get_ori_independence('descriptor/descriptors of pure electrodes.xlsx','ele')"
   ]
  },
  {
   "cell_type": "markdown",
   "id": "ece2b0ab",
   "metadata": {},
   "source": [
    "# Results of electrolytes"
   ]
  },
  {
   "cell_type": "code",
   "execution_count": 6,
   "id": "23e36d16",
   "metadata": {
    "ExecuteTime": {
     "end_time": "2023-12-13T05:58:18.786462Z",
     "start_time": "2023-12-13T05:58:18.687688Z"
    }
   },
   "outputs": [
    {
     "data": {
      "image/png": "[encoded data removed]",
      "text/plain": [
       "<Figure size 640x480 with 2 Axes>"
      ]
     },
     "metadata": {},
     "output_type": "display_data"
    }
   ],
   "source": [
    "relation,name=get_ori_independence('descriptor/descriptors of pure electrolytes.xlsx','ele')"
   ]
  },
  {
   "cell_type": "markdown",
   "id": "dab4734c",
   "metadata": {},
   "source": [
    "# Results of current/pottential"
   ]
  },
  {
   "cell_type": "code",
   "execution_count": 8,
   "id": "deafd3b1",
   "metadata": {
    "ExecuteTime": {
     "end_time": "2023-12-13T05:58:24.021478Z",
     "start_time": "2023-12-13T05:58:23.918128Z"
    }
   },
   "outputs": [
    {
     "data": {
      "text/plain": [
       "(array([[1. , 0.2, 0.2, 0.2, 0.2],\n",
       "        [0.2, 1. , 0.2, 0.2, 0.2],\n",
       "        [0.2, 0.2, 1. , 0.2, 0.2],\n",
       "        [0.2, 0.2, 0.2, 1. , 0.2],\n",
       "        [0.2, 0.2, 0.2, 0.2, 1. ]]),\n",
       " ['0.3 mA', '0.6 mA', '0.9 mA', '1.2 mA', '1.0 V', '1.5 V'])"
      ]
     },
     "execution_count": 8,
     "metadata": {},
     "output_type": "execute_result"
    },
    {
     "data": {
      "image/png": "[encoded data removed]",
      "text/plain": [
       "<Figure size 640x480 with 2 Axes>"
      ]
     },
     "metadata": {},
     "output_type": "display_data"
    }
   ],
   "source": [
    "get_ori_independence(pure_cp,'cp')"
   ]
  }
 ],
 "metadata": {
  "kernelspec": {
   "display_name": "Python 3",
   "language": "python",
   "name": "python3"
  },
  "language_info": {
   "codemirror_mode": {
    "name": "ipython",
    "version": 3
   },
   "file_extension": ".py",
   "mimetype": "text/x-python",
   "name": "python",
   "nbconvert_exporter": "python",
   "pygments_lexer": "ipython3",
   "version": "3.8.12"
  },
  "toc": {
   "base_numbering": 1,
   "nav_menu": {},
   "number_sections": true,
   "sideBar": true,
   "skip_h1_title": false,
   "title_cell": "Table of Contents",
   "title_sidebar": "Contents",
   "toc_cell": false,
   "toc_position": {},
   "toc_section_display": true,
   "toc_window_display": false
  },
  "varInspector": {
   "cols": {
    "lenName": 16,
    "lenType": 16,
    "lenVar": 40
   },
   "kernels_config": {
    "python": {
     "delete_cmd_postfix": "",
     "delete_cmd_prefix": "del ",
     "library": "var_list.py",
     "varRefreshCmd": "print(var_dic_list())"
    },
    "r": {
     "delete_cmd_postfix": ") ",
     "delete_cmd_prefix": "rm(",
     "library": "var_list.r",
     "varRefreshCmd": "cat(var_dic_list()) "
    }
   },
   "types_to_exclude": [
    "module",
    "function",
    "builtin_function_or_method",
    "instance",
    "_Feature"
   ],
   "window_display": false
  }
 },
 "nbformat": 4,
 "nbformat_minor": 5
}
